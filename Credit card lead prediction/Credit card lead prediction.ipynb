{
 "cells": [
  {
   "cell_type": "code",
   "execution_count": 140,
   "metadata": {},
   "outputs": [],
   "source": [
    "#importing necessary libraries\n",
    "import pandas as pd\n",
    "import seaborn as sns\n",
    "import numpy as np\n",
    "#for visulaisation\n",
    "import matplotlib.pyplot as plt\n",
    "%matplotlib inline\n"
   ]
  },
  {
   "cell_type": "code",
   "execution_count": 141,
   "metadata": {},
   "outputs": [
    {
     "name": "stdout",
     "output_type": "stream",
     "text": [
      "C:\\Users\\91834\\Downloads\\hackthon\n"
     ]
    }
   ],
   "source": [
    "#import data\n",
    "import io\n",
    "%cd \"C:\\Users\\91834\\Downloads\\hackthon\""
   ]
  },
  {
   "cell_type": "code",
   "execution_count": 142,
   "metadata": {},
   "outputs": [],
   "source": [
    "sample_submission=pd.read_csv('sample_submission_eyYijxG.csv')"
   ]
  },
  {
   "cell_type": "code",
   "execution_count": 143,
   "metadata": {},
   "outputs": [],
   "source": [
    "train_df=pd.read_csv('train_s3TEQDk.csv')"
   ]
  },
  {
   "cell_type": "code",
   "execution_count": 144,
   "metadata": {},
   "outputs": [],
   "source": [
    "test_df=pd.read_csv('test_mSzZ8RL.csv')"
   ]
  },
  {
   "cell_type": "code",
   "execution_count": 145,
   "metadata": {},
   "outputs": [
    {
     "name": "stdout",
     "output_type": "stream",
     "text": [
      "no.of rows/coulmns in train data: (245725, 11)\n",
      "no.of rows/coulmns in test data: (105312, 10)\n"
     ]
    }
   ],
   "source": [
    "print(\"no.of rows/coulmns in train data:\",train_df.shape)\n",
    "print(\"no.of rows/coulmns in test data:\",test_df.shape)"
   ]
  },
  {
   "cell_type": "code",
   "execution_count": 146,
   "metadata": {},
   "outputs": [
    {
     "data": {
      "text/html": [
       "<div>\n",
       "<style scoped>\n",
       "    .dataframe tbody tr th:only-of-type {\n",
       "        vertical-align: middle;\n",
       "    }\n",
       "\n",
       "    .dataframe tbody tr th {\n",
       "        vertical-align: top;\n",
       "    }\n",
       "\n",
       "    .dataframe thead th {\n",
       "        text-align: right;\n",
       "    }\n",
       "</style>\n",
       "<table border=\"1\" class=\"dataframe\">\n",
       "  <thead>\n",
       "    <tr style=\"text-align: right;\">\n",
       "      <th></th>\n",
       "      <th>ID</th>\n",
       "      <th>Gender</th>\n",
       "      <th>Age</th>\n",
       "      <th>Region_Code</th>\n",
       "      <th>Occupation</th>\n",
       "      <th>Channel_Code</th>\n",
       "      <th>Vintage</th>\n",
       "      <th>Credit_Product</th>\n",
       "      <th>Avg_Account_Balance</th>\n",
       "      <th>Is_Active</th>\n",
       "      <th>Is_Lead</th>\n",
       "    </tr>\n",
       "  </thead>\n",
       "  <tbody>\n",
       "    <tr>\n",
       "      <th>0</th>\n",
       "      <td>NNVBBKZB</td>\n",
       "      <td>Female</td>\n",
       "      <td>73</td>\n",
       "      <td>RG268</td>\n",
       "      <td>Other</td>\n",
       "      <td>X3</td>\n",
       "      <td>43</td>\n",
       "      <td>No</td>\n",
       "      <td>1045696</td>\n",
       "      <td>No</td>\n",
       "      <td>0</td>\n",
       "    </tr>\n",
       "    <tr>\n",
       "      <th>1</th>\n",
       "      <td>IDD62UNG</td>\n",
       "      <td>Female</td>\n",
       "      <td>30</td>\n",
       "      <td>RG277</td>\n",
       "      <td>Salaried</td>\n",
       "      <td>X1</td>\n",
       "      <td>32</td>\n",
       "      <td>No</td>\n",
       "      <td>581988</td>\n",
       "      <td>No</td>\n",
       "      <td>0</td>\n",
       "    </tr>\n",
       "    <tr>\n",
       "      <th>2</th>\n",
       "      <td>HD3DSEMC</td>\n",
       "      <td>Female</td>\n",
       "      <td>56</td>\n",
       "      <td>RG268</td>\n",
       "      <td>Self_Employed</td>\n",
       "      <td>X3</td>\n",
       "      <td>26</td>\n",
       "      <td>No</td>\n",
       "      <td>1484315</td>\n",
       "      <td>Yes</td>\n",
       "      <td>0</td>\n",
       "    </tr>\n",
       "    <tr>\n",
       "      <th>3</th>\n",
       "      <td>BF3NC7KV</td>\n",
       "      <td>Male</td>\n",
       "      <td>34</td>\n",
       "      <td>RG270</td>\n",
       "      <td>Salaried</td>\n",
       "      <td>X1</td>\n",
       "      <td>19</td>\n",
       "      <td>No</td>\n",
       "      <td>470454</td>\n",
       "      <td>No</td>\n",
       "      <td>0</td>\n",
       "    </tr>\n",
       "    <tr>\n",
       "      <th>4</th>\n",
       "      <td>TEASRWXV</td>\n",
       "      <td>Female</td>\n",
       "      <td>30</td>\n",
       "      <td>RG282</td>\n",
       "      <td>Salaried</td>\n",
       "      <td>X1</td>\n",
       "      <td>33</td>\n",
       "      <td>No</td>\n",
       "      <td>886787</td>\n",
       "      <td>No</td>\n",
       "      <td>0</td>\n",
       "    </tr>\n",
       "  </tbody>\n",
       "</table>\n",
       "</div>"
      ],
      "text/plain": [
       "         ID  Gender  Age Region_Code     Occupation Channel_Code  Vintage  \\\n",
       "0  NNVBBKZB  Female   73       RG268          Other           X3       43   \n",
       "1  IDD62UNG  Female   30       RG277       Salaried           X1       32   \n",
       "2  HD3DSEMC  Female   56       RG268  Self_Employed           X3       26   \n",
       "3  BF3NC7KV    Male   34       RG270       Salaried           X1       19   \n",
       "4  TEASRWXV  Female   30       RG282       Salaried           X1       33   \n",
       "\n",
       "  Credit_Product  Avg_Account_Balance Is_Active  Is_Lead  \n",
       "0             No              1045696        No        0  \n",
       "1             No               581988        No        0  \n",
       "2             No              1484315       Yes        0  \n",
       "3             No               470454        No        0  \n",
       "4             No               886787        No        0  "
      ]
     },
     "execution_count": 146,
     "metadata": {},
     "output_type": "execute_result"
    }
   ],
   "source": [
    "#display first 5 rows of data in train data\n",
    "train_df.head()"
   ]
  },
  {
   "cell_type": "code",
   "execution_count": 147,
   "metadata": {},
   "outputs": [
    {
     "data": {
      "text/html": [
       "<div>\n",
       "<style scoped>\n",
       "    .dataframe tbody tr th:only-of-type {\n",
       "        vertical-align: middle;\n",
       "    }\n",
       "\n",
       "    .dataframe tbody tr th {\n",
       "        vertical-align: top;\n",
       "    }\n",
       "\n",
       "    .dataframe thead th {\n",
       "        text-align: right;\n",
       "    }\n",
       "</style>\n",
       "<table border=\"1\" class=\"dataframe\">\n",
       "  <thead>\n",
       "    <tr style=\"text-align: right;\">\n",
       "      <th></th>\n",
       "      <th>ID</th>\n",
       "      <th>Gender</th>\n",
       "      <th>Age</th>\n",
       "      <th>Region_Code</th>\n",
       "      <th>Occupation</th>\n",
       "      <th>Channel_Code</th>\n",
       "      <th>Vintage</th>\n",
       "      <th>Credit_Product</th>\n",
       "      <th>Avg_Account_Balance</th>\n",
       "      <th>Is_Active</th>\n",
       "    </tr>\n",
       "  </thead>\n",
       "  <tbody>\n",
       "    <tr>\n",
       "      <th>0</th>\n",
       "      <td>VBENBARO</td>\n",
       "      <td>Male</td>\n",
       "      <td>29</td>\n",
       "      <td>RG254</td>\n",
       "      <td>Other</td>\n",
       "      <td>X1</td>\n",
       "      <td>25</td>\n",
       "      <td>Yes</td>\n",
       "      <td>742366</td>\n",
       "      <td>No</td>\n",
       "    </tr>\n",
       "    <tr>\n",
       "      <th>1</th>\n",
       "      <td>CCMEWNKY</td>\n",
       "      <td>Male</td>\n",
       "      <td>43</td>\n",
       "      <td>RG268</td>\n",
       "      <td>Other</td>\n",
       "      <td>X2</td>\n",
       "      <td>49</td>\n",
       "      <td>NaN</td>\n",
       "      <td>925537</td>\n",
       "      <td>No</td>\n",
       "    </tr>\n",
       "    <tr>\n",
       "      <th>2</th>\n",
       "      <td>VK3KGA9M</td>\n",
       "      <td>Male</td>\n",
       "      <td>31</td>\n",
       "      <td>RG270</td>\n",
       "      <td>Salaried</td>\n",
       "      <td>X1</td>\n",
       "      <td>14</td>\n",
       "      <td>No</td>\n",
       "      <td>215949</td>\n",
       "      <td>No</td>\n",
       "    </tr>\n",
       "    <tr>\n",
       "      <th>3</th>\n",
       "      <td>TT8RPZVC</td>\n",
       "      <td>Male</td>\n",
       "      <td>29</td>\n",
       "      <td>RG272</td>\n",
       "      <td>Other</td>\n",
       "      <td>X1</td>\n",
       "      <td>33</td>\n",
       "      <td>No</td>\n",
       "      <td>868070</td>\n",
       "      <td>No</td>\n",
       "    </tr>\n",
       "  </tbody>\n",
       "</table>\n",
       "</div>"
      ],
      "text/plain": [
       "         ID Gender  Age Region_Code Occupation Channel_Code  Vintage  \\\n",
       "0  VBENBARO   Male   29       RG254      Other           X1       25   \n",
       "1  CCMEWNKY   Male   43       RG268      Other           X2       49   \n",
       "2  VK3KGA9M   Male   31       RG270   Salaried           X1       14   \n",
       "3  TT8RPZVC   Male   29       RG272      Other           X1       33   \n",
       "\n",
       "  Credit_Product  Avg_Account_Balance Is_Active  \n",
       "0            Yes               742366        No  \n",
       "1            NaN               925537        No  \n",
       "2             No               215949        No  \n",
       "3             No               868070        No  "
      ]
     },
     "execution_count": 147,
     "metadata": {},
     "output_type": "execute_result"
    }
   ],
   "source": [
    "#display first 5 rows of data in test data\n",
    "test_df.head(4)"
   ]
  },
  {
   "cell_type": "markdown",
   "metadata": {},
   "source": [
    "**Description of dataset:**"
   ]
  },
  {
   "cell_type": "markdown",
   "metadata": {},
   "source": [
    "* **ID**   - Unique Identifier for a row\n",
    "\n",
    "* **Gender**  - Gender of the Customer\n",
    "\n",
    "* **Age**  - Age of the Customer (in Years)\n",
    "\n",
    "* **Region_Code** - Code of the Region for the customers\n",
    "\n",
    "* **Occupation** - Occupation Type for the customer\n",
    "\n",
    "* **Channel_Code** - Acquisition Channel Code for the Customer  (Encoded)\n",
    " \n",
    "* **Vintage** - Vintage for the Customer (In Months)\n",
    "\n",
    "* **Credit_Product** - If the Customer has any active credit product (Home loan,Personal loan, Credit Card etc.)\n",
    "\n",
    "* **Avg_Account_Balance** - Average Account Balance for the Customer in last 12 Months\n",
    "\n",
    "* **Is_Active** - If the Customer is Active in last 3 Months\n",
    "\n",
    "* **Is_Lead(Target)** - If the Customer is interested for the Credit Card\n",
    "\n",
    "   0 : Customer is not interested\n",
    "\n",
    "   1 : Customer is interested"
   ]
  },
  {
   "cell_type": "code",
   "execution_count": 148,
   "metadata": {},
   "outputs": [
    {
     "name": "stdout",
     "output_type": "stream",
     "text": [
      "<class 'pandas.core.frame.DataFrame'>\n",
      "RangeIndex: 245725 entries, 0 to 245724\n",
      "Data columns (total 11 columns):\n",
      " #   Column               Non-Null Count   Dtype \n",
      "---  ------               --------------   ----- \n",
      " 0   ID                   245725 non-null  object\n",
      " 1   Gender               245725 non-null  object\n",
      " 2   Age                  245725 non-null  int64 \n",
      " 3   Region_Code          245725 non-null  object\n",
      " 4   Occupation           245725 non-null  object\n",
      " 5   Channel_Code         245725 non-null  object\n",
      " 6   Vintage              245725 non-null  int64 \n",
      " 7   Credit_Product       216400 non-null  object\n",
      " 8   Avg_Account_Balance  245725 non-null  int64 \n",
      " 9   Is_Active            245725 non-null  object\n",
      " 10  Is_Lead              245725 non-null  int64 \n",
      "dtypes: int64(4), object(7)\n",
      "memory usage: 20.6+ MB\n"
     ]
    }
   ],
   "source": [
    "train_df.info()"
   ]
  },
  {
   "cell_type": "code",
   "execution_count": 10,
   "metadata": {},
   "outputs": [
    {
     "name": "stdout",
     "output_type": "stream",
     "text": [
      "<class 'pandas.core.frame.DataFrame'>\n",
      "RangeIndex: 105312 entries, 0 to 105311\n",
      "Data columns (total 10 columns):\n",
      " #   Column               Non-Null Count   Dtype \n",
      "---  ------               --------------   ----- \n",
      " 0   ID                   105312 non-null  object\n",
      " 1   Gender               105312 non-null  object\n",
      " 2   Age                  105312 non-null  int64 \n",
      " 3   Region_Code          105312 non-null  object\n",
      " 4   Occupation           105312 non-null  object\n",
      " 5   Channel_Code         105312 non-null  object\n",
      " 6   Vintage              105312 non-null  int64 \n",
      " 7   Credit_Product       92790 non-null   object\n",
      " 8   Avg_Account_Balance  105312 non-null  int64 \n",
      " 9   Is_Active            105312 non-null  object\n",
      "dtypes: int64(3), object(7)\n",
      "memory usage: 8.0+ MB\n"
     ]
    }
   ],
   "source": [
    "test_df1.info()"
   ]
  },
  {
   "cell_type": "code",
   "execution_count": 11,
   "metadata": {},
   "outputs": [
    {
     "data": {
      "text/html": [
       "<div>\n",
       "<style scoped>\n",
       "    .dataframe tbody tr th:only-of-type {\n",
       "        vertical-align: middle;\n",
       "    }\n",
       "\n",
       "    .dataframe tbody tr th {\n",
       "        vertical-align: top;\n",
       "    }\n",
       "\n",
       "    .dataframe thead th {\n",
       "        text-align: right;\n",
       "    }\n",
       "</style>\n",
       "<table border=\"1\" class=\"dataframe\">\n",
       "  <thead>\n",
       "    <tr style=\"text-align: right;\">\n",
       "      <th></th>\n",
       "      <th>Age</th>\n",
       "      <th>Vintage</th>\n",
       "      <th>Avg_Account_Balance</th>\n",
       "      <th>Is_Lead</th>\n",
       "    </tr>\n",
       "  </thead>\n",
       "  <tbody>\n",
       "    <tr>\n",
       "      <th>count</th>\n",
       "      <td>245725.000000</td>\n",
       "      <td>245725.000000</td>\n",
       "      <td>2.457250e+05</td>\n",
       "      <td>245725.000000</td>\n",
       "    </tr>\n",
       "    <tr>\n",
       "      <th>mean</th>\n",
       "      <td>43.856307</td>\n",
       "      <td>46.959141</td>\n",
       "      <td>1.128403e+06</td>\n",
       "      <td>0.237208</td>\n",
       "    </tr>\n",
       "    <tr>\n",
       "      <th>std</th>\n",
       "      <td>14.828672</td>\n",
       "      <td>32.353136</td>\n",
       "      <td>8.529364e+05</td>\n",
       "      <td>0.425372</td>\n",
       "    </tr>\n",
       "    <tr>\n",
       "      <th>min</th>\n",
       "      <td>23.000000</td>\n",
       "      <td>7.000000</td>\n",
       "      <td>2.079000e+04</td>\n",
       "      <td>0.000000</td>\n",
       "    </tr>\n",
       "    <tr>\n",
       "      <th>25%</th>\n",
       "      <td>30.000000</td>\n",
       "      <td>20.000000</td>\n",
       "      <td>6.043100e+05</td>\n",
       "      <td>0.000000</td>\n",
       "    </tr>\n",
       "    <tr>\n",
       "      <th>50%</th>\n",
       "      <td>43.000000</td>\n",
       "      <td>32.000000</td>\n",
       "      <td>8.946010e+05</td>\n",
       "      <td>0.000000</td>\n",
       "    </tr>\n",
       "    <tr>\n",
       "      <th>75%</th>\n",
       "      <td>54.000000</td>\n",
       "      <td>73.000000</td>\n",
       "      <td>1.366666e+06</td>\n",
       "      <td>0.000000</td>\n",
       "    </tr>\n",
       "    <tr>\n",
       "      <th>max</th>\n",
       "      <td>85.000000</td>\n",
       "      <td>135.000000</td>\n",
       "      <td>1.035201e+07</td>\n",
       "      <td>1.000000</td>\n",
       "    </tr>\n",
       "  </tbody>\n",
       "</table>\n",
       "</div>"
      ],
      "text/plain": [
       "                 Age        Vintage  Avg_Account_Balance        Is_Lead\n",
       "count  245725.000000  245725.000000         2.457250e+05  245725.000000\n",
       "mean       43.856307      46.959141         1.128403e+06       0.237208\n",
       "std        14.828672      32.353136         8.529364e+05       0.425372\n",
       "min        23.000000       7.000000         2.079000e+04       0.000000\n",
       "25%        30.000000      20.000000         6.043100e+05       0.000000\n",
       "50%        43.000000      32.000000         8.946010e+05       0.000000\n",
       "75%        54.000000      73.000000         1.366666e+06       0.000000\n",
       "max        85.000000     135.000000         1.035201e+07       1.000000"
      ]
     },
     "execution_count": 11,
     "metadata": {},
     "output_type": "execute_result"
    }
   ],
   "source": [
    "train_df1.describe()"
   ]
  },
  {
   "cell_type": "code",
   "execution_count": 12,
   "metadata": {},
   "outputs": [
    {
     "name": "stdout",
     "output_type": "stream",
     "text": [
      "<class 'pandas.core.frame.DataFrame'>\n",
      "RangeIndex: 105312 entries, 0 to 105311\n",
      "Data columns (total 10 columns):\n",
      " #   Column               Non-Null Count   Dtype \n",
      "---  ------               --------------   ----- \n",
      " 0   ID                   105312 non-null  object\n",
      " 1   Gender               105312 non-null  object\n",
      " 2   Age                  105312 non-null  int64 \n",
      " 3   Region_Code          105312 non-null  object\n",
      " 4   Occupation           105312 non-null  object\n",
      " 5   Channel_Code         105312 non-null  object\n",
      " 6   Vintage              105312 non-null  int64 \n",
      " 7   Credit_Product       92790 non-null   object\n",
      " 8   Avg_Account_Balance  105312 non-null  int64 \n",
      " 9   Is_Active            105312 non-null  object\n",
      "dtypes: int64(3), object(7)\n",
      "memory usage: 8.0+ MB\n"
     ]
    }
   ],
   "source": [
    "test_df1.info()"
   ]
  },
  {
   "cell_type": "code",
   "execution_count": 13,
   "metadata": {},
   "outputs": [],
   "source": [
    "#checking missing data and outliers"
   ]
  },
  {
   "cell_type": "code",
   "execution_count": 14,
   "metadata": {},
   "outputs": [
    {
     "name": "stdout",
     "output_type": "stream",
     "text": [
      "11\n",
      "no.of columns in train data:\n",
      " Index(['ID', 'Gender', 'Age', 'Region_Code', 'Occupation', 'Channel_Code',\n",
      "       'Vintage', 'Credit_Product', 'Avg_Account_Balance', 'Is_Active',\n",
      "       'Is_Lead'],\n",
      "      dtype='object')\n",
      "10\n",
      "no.of columns in test data:\n",
      " Index(['ID', 'Gender', 'Age', 'Region_Code', 'Occupation', 'Channel_Code',\n",
      "       'Vintage', 'Credit_Product', 'Avg_Account_Balance', 'Is_Active'],\n",
      "      dtype='object')\n"
     ]
    }
   ],
   "source": [
    "#displaying columns names\n",
    "print(len(train_df1.columns))\n",
    "print(\"no.of columns in train data:\"'\\n' ,train_df1.columns)\n",
    "print(len(test_df1.columns))\n",
    "print(\"no.of columns in test data:\"'\\n' ,test_df1.columns)\n"
   ]
  },
  {
   "cell_type": "code",
   "execution_count": 15,
   "metadata": {},
   "outputs": [
    {
     "data": {
      "text/plain": [
       "ID                     245725\n",
       "Gender                      2\n",
       "Age                        63\n",
       "Region_Code                35\n",
       "Occupation                  4\n",
       "Channel_Code                4\n",
       "Vintage                    66\n",
       "Credit_Product              2\n",
       "Avg_Account_Balance    135292\n",
       "Is_Active                   2\n",
       "Is_Lead                     2\n",
       "dtype: int64"
      ]
     },
     "execution_count": 15,
     "metadata": {},
     "output_type": "execute_result"
    }
   ],
   "source": [
    "train_df1.nunique()"
   ]
  },
  {
   "cell_type": "code",
   "execution_count": 16,
   "metadata": {},
   "outputs": [
    {
     "data": {
      "text/plain": [
       "ID                     105312\n",
       "Gender                      2\n",
       "Age                        62\n",
       "Region_Code                35\n",
       "Occupation                  4\n",
       "Channel_Code                4\n",
       "Vintage                    66\n",
       "Credit_Product              2\n",
       "Avg_Account_Balance     78315\n",
       "Is_Active                   2\n",
       "dtype: int64"
      ]
     },
     "execution_count": 16,
     "metadata": {},
     "output_type": "execute_result"
    }
   ],
   "source": [
    "test_df1.nunique()"
   ]
  },
  {
   "cell_type": "code",
   "execution_count": 17,
   "metadata": {},
   "outputs": [
    {
     "data": {
      "text/plain": [
       "array(['Female', 'Male'], dtype=object)"
      ]
     },
     "execution_count": 17,
     "metadata": {},
     "output_type": "execute_result"
    }
   ],
   "source": [
    "train_df1['Gender'].unique()"
   ]
  },
  {
   "cell_type": "code",
   "execution_count": 18,
   "metadata": {},
   "outputs": [
    {
     "data": {
      "text/plain": [
       "array([73, 30, 56, 34, 62, 48, 40, 55, 53, 27, 31, 79, 33, 46, 59, 65, 37,\n",
       "       44, 32, 50, 70, 25, 52, 26, 67, 29, 41, 49, 63, 61, 64, 60, 76, 57,\n",
       "       36, 28, 58, 43, 35, 71, 82, 45, 42, 54, 47, 78, 51, 68, 83, 39, 84,\n",
       "       24, 38, 74, 81, 69, 75, 85, 66, 80, 72, 77, 23], dtype=int64)"
      ]
     },
     "execution_count": 18,
     "metadata": {},
     "output_type": "execute_result"
    }
   ],
   "source": [
    "train_df1['Age'].unique()"
   ]
  },
  {
   "cell_type": "code",
   "execution_count": 19,
   "metadata": {},
   "outputs": [
    {
     "data": {
      "text/plain": [
       "array(['RG268', 'RG277', 'RG270', 'RG282', 'RG261', 'RG265', 'RG283',\n",
       "       'RG254', 'RG269', 'RG257', 'RG279', 'RG280', 'RG252', 'RG284',\n",
       "       'RG259', 'RG281', 'RG258', 'RG266', 'RG260', 'RG274', 'RG256',\n",
       "       'RG275', 'RG273', 'RG267', 'RG272', 'RG251', 'RG262', 'RG264',\n",
       "       'RG278', 'RG276', 'RG263', 'RG250', 'RG255', 'RG253', 'RG271'],\n",
       "      dtype=object)"
      ]
     },
     "execution_count": 19,
     "metadata": {},
     "output_type": "execute_result"
    }
   ],
   "source": [
    "train_df1['Region_Code'].unique()"
   ]
  },
  {
   "cell_type": "code",
   "execution_count": 20,
   "metadata": {},
   "outputs": [
    {
     "data": {
      "text/plain": [
       "array(['Other', 'Salaried', 'Self_Employed', 'Entrepreneur'], dtype=object)"
      ]
     },
     "execution_count": 20,
     "metadata": {},
     "output_type": "execute_result"
    }
   ],
   "source": [
    "train_df1['Occupation'].unique()"
   ]
  },
  {
   "cell_type": "code",
   "execution_count": 21,
   "metadata": {},
   "outputs": [
    {
     "data": {
      "text/plain": [
       "array(['X3', 'X1', 'X2', 'X4'], dtype=object)"
      ]
     },
     "execution_count": 21,
     "metadata": {},
     "output_type": "execute_result"
    }
   ],
   "source": [
    "train_df1['Channel_Code'].unique()"
   ]
  },
  {
   "cell_type": "code",
   "execution_count": 22,
   "metadata": {},
   "outputs": [
    {
     "data": {
      "text/plain": [
       "array([ 43,  32,  26,  19,  33,  20,  13,  38,  49, 123,  14,  31,  57,\n",
       "        69,  97,  15,  63,  21,  99,  56,  87,  62,  55, 103, 104,  93,\n",
       "        61,  91,  27,  39,  50,  45,  25, 117,  80,  81,  73,  67, 109,\n",
       "        92, 122,  75,  79, 121, 111, 116,  85, 115,  86,  37,  74, 110,\n",
       "        44,   9,  68,  51,  98, 105, 127, 129, 133,   8,   7, 128, 135,\n",
       "       134], dtype=int64)"
      ]
     },
     "execution_count": 22,
     "metadata": {},
     "output_type": "execute_result"
    }
   ],
   "source": [
    "train_df1['Vintage'].unique()"
   ]
  },
  {
   "cell_type": "code",
   "execution_count": 23,
   "metadata": {},
   "outputs": [
    {
     "data": {
      "text/plain": [
       "array(['No', nan, 'Yes'], dtype=object)"
      ]
     },
     "execution_count": 23,
     "metadata": {},
     "output_type": "execute_result"
    }
   ],
   "source": [
    "train_df1['Credit_Product'].unique()"
   ]
  },
  {
   "cell_type": "code",
   "execution_count": 24,
   "metadata": {},
   "outputs": [
    {
     "data": {
      "text/plain": [
       "array(['No', 'Yes'], dtype=object)"
      ]
     },
     "execution_count": 24,
     "metadata": {},
     "output_type": "execute_result"
    }
   ],
   "source": [
    "train_df1['Is_Active'].unique()"
   ]
  },
  {
   "cell_type": "code",
   "execution_count": 25,
   "metadata": {},
   "outputs": [
    {
     "data": {
      "text/plain": [
       "array([0, 1], dtype=int64)"
      ]
     },
     "execution_count": 25,
     "metadata": {},
     "output_type": "execute_result"
    }
   ],
   "source": [
    "train_df1['Is_Lead'].unique()"
   ]
  },
  {
   "cell_type": "code",
   "execution_count": 26,
   "metadata": {},
   "outputs": [],
   "source": [
    "Target_col='Is_Lead'"
   ]
  },
  {
   "cell_type": "code",
   "execution_count": 27,
   "metadata": {},
   "outputs": [],
   "source": [
    "categorical_col=['Gender','Region_Code','Occupation','Channel_Code','Credit_Product','Is_Active',]\n",
    "numerical_col=['Age','Vintage','Avg_Account_Balance']"
   ]
  },
  {
   "cell_type": "code",
   "execution_count": 28,
   "metadata": {},
   "outputs": [
    {
     "data": {
      "text/plain": [
       "<AxesSubplot:ylabel='Frequency'>"
      ]
     },
     "execution_count": 28,
     "metadata": {},
     "output_type": "execute_result"
    },
    {
     "data": {
      "image/png": "[encoded data removed]",
      "text/plain": [
       "<Figure size 432x288 with 1 Axes>"
      ]
     },
     "metadata": {
      "needs_background": "light"
     },
     "output_type": "display_data"
    }
   ],
   "source": [
    "train_df1.Is_Lead.plot.hist()"
   ]
  },
  {
   "cell_type": "code",
   "execution_count": 29,
   "metadata": {},
   "outputs": [
    {
     "data": {
      "text/plain": [
       "<AxesSubplot:ylabel='Frequency'>"
      ]
     },
     "execution_count": 29,
     "metadata": {},
     "output_type": "execute_result"
    },
    {
     "data": {
      "image/png": "[encoded data removed]",
      "text/plain": [
       "<Figure size 432x288 with 1 Axes>"
      ]
     },
     "metadata": {
      "needs_background": "light"
     },
     "output_type": "display_data"
    }
   ],
   "source": [
    "train_df1.Age.plot.hist()"
   ]
  },
  {
   "cell_type": "code",
   "execution_count": 30,
   "metadata": {},
   "outputs": [
    {
     "data": {
      "text/plain": [
       "<AxesSubplot:ylabel='Frequency'>"
      ]
     },
     "execution_count": 30,
     "metadata": {},
     "output_type": "execute_result"
    },
    {
     "data": {
      "image/png": "[encoded data removed]",
      "text/plain": [
       "<Figure size 432x288 with 1 Axes>"
      ]
     },
     "metadata": {
      "needs_background": "light"
     },
     "output_type": "display_data"
    }
   ],
   "source": [
    "test_df1.Age.plot.hist()"
   ]
  },
  {
   "cell_type": "code",
   "execution_count": 31,
   "metadata": {},
   "outputs": [
    {
     "data": {
      "text/plain": [
       "<AxesSubplot:ylabel='Frequency'>"
      ]
     },
     "execution_count": 31,
     "metadata": {},
     "output_type": "execute_result"
    },
    {
     "data": {
      "image/png": "[encoded data removed]",
      "text/plain": [
       "<Figure size 432x288 with 1 Axes>"
      ]
     },
     "metadata": {
      "needs_background": "light"
     },
     "output_type": "display_data"
    }
   ],
   "source": [
    "train_df1.Avg_Account_Balance.plot.hist()"
   ]
  },
  {
   "cell_type": "code",
   "execution_count": 32,
   "metadata": {},
   "outputs": [
    {
     "data": {
      "text/plain": [
       "<AxesSubplot:ylabel='Frequency'>"
      ]
     },
     "execution_count": 32,
     "metadata": {},
     "output_type": "execute_result"
    },
    {
     "data": {
      "image/png": "[encoded data removed]",
      "text/plain": [
       "<Figure size 432x288 with 1 Axes>"
      ]
     },
     "metadata": {
      "needs_background": "light"
     },
     "output_type": "display_data"
    }
   ],
   "source": [
    "test_df1.Avg_Account_Balance.plot.hist()"
   ]
  },
  {
   "cell_type": "code",
   "execution_count": 33,
   "metadata": {},
   "outputs": [
    {
     "data": {
      "text/plain": [
       "<AxesSubplot:ylabel='Frequency'>"
      ]
     },
     "execution_count": 33,
     "metadata": {},
     "output_type": "execute_result"
    },
    {
     "data": {
      "image/png": "[encoded data removed]",
      "text/plain": [
       "<Figure size 432x288 with 1 Axes>"
      ]
     },
     "metadata": {
      "needs_background": "light"
     },
     "output_type": "display_data"
    }
   ],
   "source": [
    "train_df1.Vintage.plot.hist()"
   ]
  },
  {
   "cell_type": "code",
   "execution_count": 34,
   "metadata": {},
   "outputs": [
    {
     "data": {
      "text/plain": [
       "<AxesSubplot:ylabel='Frequency'>"
      ]
     },
     "execution_count": 34,
     "metadata": {},
     "output_type": "execute_result"
    },
    {
     "data": {
      "image/png": "[encoded data removed]",
      "text/plain": [
       "<Figure size 432x288 with 1 Axes>"
      ]
     },
     "metadata": {
      "needs_background": "light"
     },
     "output_type": "display_data"
    }
   ],
   "source": [
    "test_df1.Vintage.plot.hist()"
   ]
  },
  {
   "cell_type": "code",
   "execution_count": 38,
   "metadata": {},
   "outputs": [],
   "source": [
    "#missing values"
   ]
  },
  {
   "cell_type": "code",
   "execution_count": 39,
   "metadata": {},
   "outputs": [
    {
     "data": {
      "text/plain": [
       "ID                         0\n",
       "Gender                     0\n",
       "Age                        0\n",
       "Region_Code                0\n",
       "Occupation                 0\n",
       "Channel_Code               0\n",
       "Vintage                    0\n",
       "Credit_Product         29325\n",
       "Avg_Account_Balance        0\n",
       "Is_Active                  0\n",
       "Is_Lead                    0\n",
       "dtype: int64"
      ]
     },
     "execution_count": 39,
     "metadata": {},
     "output_type": "execute_result"
    }
   ],
   "source": [
    "train_df1.isnull().sum()"
   ]
  },
  {
   "cell_type": "markdown",
   "metadata": {},
   "source": [
    "Here ,In train_df  we have Credit_Product is categorical column thats's why i'm taking most frequent value in entire column and fill those one in place of missing values"
   ]
  },
  {
   "cell_type": "code",
   "execution_count": 40,
   "metadata": {},
   "outputs": [
    {
     "data": {
      "text/plain": [
       "ID                         0\n",
       "Gender                     0\n",
       "Age                        0\n",
       "Region_Code                0\n",
       "Occupation                 0\n",
       "Channel_Code               0\n",
       "Vintage                    0\n",
       "Credit_Product         12522\n",
       "Avg_Account_Balance        0\n",
       "Is_Active                  0\n",
       "dtype: int64"
      ]
     },
     "execution_count": 40,
     "metadata": {},
     "output_type": "execute_result"
    }
   ],
   "source": [
    "test_df1.isnull().sum()"
   ]
  },
  {
   "cell_type": "markdown",
   "metadata": {},
   "source": [
    "Here ,In test_df  we have Credit_Product is categorical column thats's why i'm taking most frequent value in entire column and fill those one in place of missing values"
   ]
  },
  {
   "cell_type": "code",
   "execution_count": 149,
   "metadata": {},
   "outputs": [],
   "source": [
    "train_df['source']='train'\n",
    "test_df['source']='test'\n",
    "data=pd.concat([train_df,test_df],ignore_index=True)"
   ]
  },
  {
   "cell_type": "code",
   "execution_count": 150,
   "metadata": {},
   "outputs": [
    {
     "data": {
      "text/plain": [
       "(351037, 12)"
      ]
     },
     "execution_count": 150,
     "metadata": {},
     "output_type": "execute_result"
    }
   ],
   "source": [
    "data.shape"
   ]
  },
  {
   "cell_type": "code",
   "execution_count": 151,
   "metadata": {},
   "outputs": [
    {
     "data": {
      "text/html": [
       "<div>\n",
       "<style scoped>\n",
       "    .dataframe tbody tr th:only-of-type {\n",
       "        vertical-align: middle;\n",
       "    }\n",
       "\n",
       "    .dataframe tbody tr th {\n",
       "        vertical-align: top;\n",
       "    }\n",
       "\n",
       "    .dataframe thead th {\n",
       "        text-align: right;\n",
       "    }\n",
       "</style>\n",
       "<table border=\"1\" class=\"dataframe\">\n",
       "  <thead>\n",
       "    <tr style=\"text-align: right;\">\n",
       "      <th></th>\n",
       "      <th>ID</th>\n",
       "      <th>Gender</th>\n",
       "      <th>Age</th>\n",
       "      <th>Region_Code</th>\n",
       "      <th>Occupation</th>\n",
       "      <th>Channel_Code</th>\n",
       "      <th>Vintage</th>\n",
       "      <th>Credit_Product</th>\n",
       "      <th>Avg_Account_Balance</th>\n",
       "      <th>Is_Active</th>\n",
       "      <th>Is_Lead</th>\n",
       "      <th>source</th>\n",
       "    </tr>\n",
       "  </thead>\n",
       "  <tbody>\n",
       "    <tr>\n",
       "      <th>0</th>\n",
       "      <td>NNVBBKZB</td>\n",
       "      <td>Female</td>\n",
       "      <td>73</td>\n",
       "      <td>RG268</td>\n",
       "      <td>Other</td>\n",
       "      <td>X3</td>\n",
       "      <td>43</td>\n",
       "      <td>No</td>\n",
       "      <td>1045696</td>\n",
       "      <td>No</td>\n",
       "      <td>0.0</td>\n",
       "      <td>train</td>\n",
       "    </tr>\n",
       "    <tr>\n",
       "      <th>1</th>\n",
       "      <td>IDD62UNG</td>\n",
       "      <td>Female</td>\n",
       "      <td>30</td>\n",
       "      <td>RG277</td>\n",
       "      <td>Salaried</td>\n",
       "      <td>X1</td>\n",
       "      <td>32</td>\n",
       "      <td>No</td>\n",
       "      <td>581988</td>\n",
       "      <td>No</td>\n",
       "      <td>0.0</td>\n",
       "      <td>train</td>\n",
       "    </tr>\n",
       "    <tr>\n",
       "      <th>2</th>\n",
       "      <td>HD3DSEMC</td>\n",
       "      <td>Female</td>\n",
       "      <td>56</td>\n",
       "      <td>RG268</td>\n",
       "      <td>Self_Employed</td>\n",
       "      <td>X3</td>\n",
       "      <td>26</td>\n",
       "      <td>No</td>\n",
       "      <td>1484315</td>\n",
       "      <td>Yes</td>\n",
       "      <td>0.0</td>\n",
       "      <td>train</td>\n",
       "    </tr>\n",
       "    <tr>\n",
       "      <th>3</th>\n",
       "      <td>BF3NC7KV</td>\n",
       "      <td>Male</td>\n",
       "      <td>34</td>\n",
       "      <td>RG270</td>\n",
       "      <td>Salaried</td>\n",
       "      <td>X1</td>\n",
       "      <td>19</td>\n",
       "      <td>No</td>\n",
       "      <td>470454</td>\n",
       "      <td>No</td>\n",
       "      <td>0.0</td>\n",
       "      <td>train</td>\n",
       "    </tr>\n",
       "    <tr>\n",
       "      <th>4</th>\n",
       "      <td>TEASRWXV</td>\n",
       "      <td>Female</td>\n",
       "      <td>30</td>\n",
       "      <td>RG282</td>\n",
       "      <td>Salaried</td>\n",
       "      <td>X1</td>\n",
       "      <td>33</td>\n",
       "      <td>No</td>\n",
       "      <td>886787</td>\n",
       "      <td>No</td>\n",
       "      <td>0.0</td>\n",
       "      <td>train</td>\n",
       "    </tr>\n",
       "  </tbody>\n",
       "</table>\n",
       "</div>"
      ],
      "text/plain": [
       "         ID  Gender  Age Region_Code     Occupation Channel_Code  Vintage  \\\n",
       "0  NNVBBKZB  Female   73       RG268          Other           X3       43   \n",
       "1  IDD62UNG  Female   30       RG277       Salaried           X1       32   \n",
       "2  HD3DSEMC  Female   56       RG268  Self_Employed           X3       26   \n",
       "3  BF3NC7KV    Male   34       RG270       Salaried           X1       19   \n",
       "4  TEASRWXV  Female   30       RG282       Salaried           X1       33   \n",
       "\n",
       "  Credit_Product  Avg_Account_Balance Is_Active  Is_Lead source  \n",
       "0             No              1045696        No      0.0  train  \n",
       "1             No               581988        No      0.0  train  \n",
       "2             No              1484315       Yes      0.0  train  \n",
       "3             No               470454        No      0.0  train  \n",
       "4             No               886787        No      0.0  train  "
      ]
     },
     "execution_count": 151,
     "metadata": {},
     "output_type": "execute_result"
    }
   ],
   "source": [
    "data.head()"
   ]
  },
  {
   "cell_type": "code",
   "execution_count": 152,
   "metadata": {},
   "outputs": [
    {
     "data": {
      "text/plain": [
       "ID                          0\n",
       "Gender                      0\n",
       "Age                         0\n",
       "Region_Code                 0\n",
       "Occupation                  0\n",
       "Channel_Code                0\n",
       "Vintage                     0\n",
       "Credit_Product          41847\n",
       "Avg_Account_Balance         0\n",
       "Is_Active                   0\n",
       "Is_Lead                105312\n",
       "source                      0\n",
       "dtype: int64"
      ]
     },
     "execution_count": 152,
     "metadata": {},
     "output_type": "execute_result"
    }
   ],
   "source": [
    "data.isnull().sum()"
   ]
  },
  {
   "cell_type": "code",
   "execution_count": 153,
   "metadata": {},
   "outputs": [
    {
     "data": {
      "text/plain": [
       "ID                      object\n",
       "Gender                  object\n",
       "Age                      int64\n",
       "Region_Code             object\n",
       "Occupation              object\n",
       "Channel_Code            object\n",
       "Vintage                  int64\n",
       "Credit_Product          object\n",
       "Avg_Account_Balance      int64\n",
       "Is_Active               object\n",
       "Is_Lead                float64\n",
       "source                  object\n",
       "dtype: object"
      ]
     },
     "execution_count": 153,
     "metadata": {},
     "output_type": "execute_result"
    }
   ],
   "source": [
    "data.dtypes"
   ]
  },
  {
   "cell_type": "code",
   "execution_count": 154,
   "metadata": {},
   "outputs": [
    {
     "data": {
      "text/plain": [
       "ID                     351037\n",
       "Gender                      2\n",
       "Age                        63\n",
       "Region_Code                35\n",
       "Occupation                  4\n",
       "Channel_Code                4\n",
       "Vintage                    66\n",
       "Credit_Product              2\n",
       "Avg_Account_Balance    162137\n",
       "Is_Active                   2\n",
       "Is_Lead                     2\n",
       "source                      2\n",
       "dtype: int64"
      ]
     },
     "execution_count": 154,
     "metadata": {},
     "output_type": "execute_result"
    }
   ],
   "source": [
    "data.nunique()"
   ]
  },
  {
   "cell_type": "code",
   "execution_count": 155,
   "metadata": {},
   "outputs": [
    {
     "data": {
      "text/plain": [
       "No     205965\n",
       "Yes    103225\n",
       "Name: Credit_Product, dtype: int64"
      ]
     },
     "execution_count": 155,
     "metadata": {},
     "output_type": "execute_result"
    }
   ],
   "source": [
    "data['Credit_Product'].value_counts()"
   ]
  },
  {
   "cell_type": "code",
   "execution_count": 156,
   "metadata": {},
   "outputs": [],
   "source": [
    "data['Credit_Product'].replace(np.nan,'Yes',inplace=True)"
   ]
  },
  {
   "cell_type": "code",
   "execution_count": 157,
   "metadata": {},
   "outputs": [
    {
     "name": "stderr",
     "output_type": "stream",
     "text": [
      "C:\\Users\\91834\\anaconda\\lib\\site-packages\\seaborn\\distributions.py:2557: FutureWarning: `distplot` is a deprecated function and will be removed in a future version. Please adapt your code to use either `displot` (a figure-level function with similar flexibility) or `histplot` (an axes-level function for histograms).\n",
      "  warnings.warn(msg, FutureWarning)\n"
     ]
    },
    {
     "data": {
      "image/png": "[encoded data removed]",
      "text/plain": [
       "<Figure size 432x288 with 1 Axes>"
      ]
     },
     "metadata": {
      "needs_background": "light"
     },
     "output_type": "display_data"
    }
   ],
   "source": [
    "sns.distplot(data['Avg_Account_Balance'])\n",
    "plt.show()"
   ]
  },
  {
   "cell_type": "code",
   "execution_count": 159,
   "metadata": {},
   "outputs": [
    {
     "name": "stderr",
     "output_type": "stream",
     "text": [
      "C:\\Users\\91834\\anaconda\\lib\\site-packages\\seaborn\\distributions.py:2557: FutureWarning: `distplot` is a deprecated function and will be removed in a future version. Please adapt your code to use either `displot` (a figure-level function with similar flexibility) or `histplot` (an axes-level function for histograms).\n",
      "  warnings.warn(msg, FutureWarning)\n"
     ]
    },
    {
     "data": {
      "image/png": "[encoded data removed]",
      "text/plain": [
       "<Figure size 432x288 with 1 Axes>"
      ]
     },
     "metadata": {
      "needs_background": "light"
     },
     "output_type": "display_data"
    }
   ],
   "source": [
    "data['Avg_Account_Balance']=np.log(data['Avg_Account_Balance'])\n",
    "sns.distplot(data['Avg_Account_Balance'])\n",
    "plt.show()"
   ]
  },
  {
   "cell_type": "code",
   "execution_count": 160,
   "metadata": {},
   "outputs": [],
   "source": [
    "train_df=data.loc[data['source']==\"train\"]\n",
    "test_df=data.loc[data['source']==\"test\"]"
   ]
  },
  {
   "cell_type": "code",
   "execution_count": 161,
   "metadata": {},
   "outputs": [
    {
     "name": "stderr",
     "output_type": "stream",
     "text": [
      "C:\\Users\\91834\\anaconda\\lib\\site-packages\\pandas\\core\\frame.py:4167: SettingWithCopyWarning: \n",
      "A value is trying to be set on a copy of a slice from a DataFrame\n",
      "\n",
      "See the caveats in the documentation: https://pandas.pydata.org/pandas-docs/stable/user_guide/indexing.html#returning-a-view-versus-a-copy\n",
      "  return super().drop(\n"
     ]
    }
   ],
   "source": [
    "#drop unnecessary columns:\n",
    "test_df.drop(['Is_Lead','source'],axis=1,inplace=True)\n",
    "train_df.drop('source',axis=1,inplace=True)"
   ]
  },
  {
   "cell_type": "code",
   "execution_count": 162,
   "metadata": {},
   "outputs": [],
   "source": [
    "train_df.drop('ID',axis=1,inplace=True)\n",
    "test_df.drop('ID',axis=1,inplace=True)"
   ]
  },
  {
   "cell_type": "code",
   "execution_count": 164,
   "metadata": {},
   "outputs": [
    {
     "data": {
      "text/plain": [
       "Gender                  object\n",
       "Age                      int64\n",
       "Region_Code             object\n",
       "Occupation              object\n",
       "Channel_Code            object\n",
       "Vintage                  int64\n",
       "Credit_Product          object\n",
       "Avg_Account_Balance    float64\n",
       "Is_Active               object\n",
       "Is_Lead                float64\n",
       "dtype: object"
      ]
     },
     "execution_count": 164,
     "metadata": {},
     "output_type": "execute_result"
    }
   ],
   "source": [
    "train_df.dtypes"
   ]
  },
  {
   "cell_type": "code",
   "execution_count": 166,
   "metadata": {},
   "outputs": [
    {
     "name": "stderr",
     "output_type": "stream",
     "text": [
      "<ipython-input-166-041bdf28c6ea>:6: SettingWithCopyWarning: \n",
      "A value is trying to be set on a copy of a slice from a DataFrame.\n",
      "Try using .loc[row_indexer,col_indexer] = value instead\n",
      "\n",
      "See the caveats in the documentation: https://pandas.pydata.org/pandas-docs/stable/user_guide/indexing.html#returning-a-view-versus-a-copy\n",
      "  train_df[i]=le.fit_transform(train_df[i])\n",
      "<ipython-input-166-041bdf28c6ea>:7: SettingWithCopyWarning: \n",
      "A value is trying to be set on a copy of a slice from a DataFrame.\n",
      "Try using .loc[row_indexer,col_indexer] = value instead\n",
      "\n",
      "See the caveats in the documentation: https://pandas.pydata.org/pandas-docs/stable/user_guide/indexing.html#returning-a-view-versus-a-copy\n",
      "  test_df[i]=le.fit_transform(test_df[i])\n"
     ]
    }
   ],
   "source": [
    "from sklearn.preprocessing import LabelEncoder\n",
    "le=LabelEncoder()\n",
    "var_mod=['Gender','Region_Code', 'Occupation', 'Channel_Code',\n",
    "       'Credit_Product', 'Is_Active']\n",
    "for i in var_mod:\n",
    "    train_df[i]=le.fit_transform(train_df[i])\n",
    "    test_df[i]=le.fit_transform(test_df[i])"
   ]
  },
  {
   "cell_type": "code",
   "execution_count": 167,
   "metadata": {},
   "outputs": [],
   "source": [
    "X=train_df.drop('Is_Lead',axis=1)\n",
    "y=train_df['Is_Lead']"
   ]
  },
  {
   "cell_type": "code",
   "execution_count": 168,
   "metadata": {},
   "outputs": [],
   "source": [
    "from sklearn.model_selection import KFold,StratifiedKFold\n",
    "from sklearn.metrics import roc_auc_score"
   ]
  },
  {
   "cell_type": "code",
   "execution_count": 171,
   "metadata": {},
   "outputs": [],
   "source": [
    "def cross_val(X,y,model,params,folds=9):\n",
    "        skf=StratifiedKFold(n_splits=folds,shuffle=True,random_state=21)\n",
    "        for fold,(train_idx,test_idx) in enumerate(skf.split(X,y)):\n",
    "            print(f\"Fold:{fold}\")\n",
    "            x_train,y_train=X.iloc[train_idx],y.iloc[train_idx]\n",
    "            x_test,y_test=X.iloc[test_idx],y.iloc[test_idx]\n",
    "            alg=model(**params)\n",
    "            alg.fit(x_train,y_train,eval_set=[(x_test,y_test)],early_stopping_rounds=100,verbose=400)\n",
    "            pred=alg.predict_proba(x_test)[:,1]\n",
    "            roc_score=roc_auc_score(y_test,pred)\n",
    "            print(f\"roc_auc_score:{roc_score}\")\n",
    "            print(\"-\"*50)\n",
    "        return alg"
   ]
  },
  {
   "cell_type": "code",
   "execution_count": 172,
   "metadata": {},
   "outputs": [],
   "source": [
    "lgb_params={'learning_rate':0.045,\n",
    "           'n_estimators':20000,\n",
    "           'max_bin':94,\n",
    "           'num_leaves':10,\n",
    "           'max_depth':27,\n",
    "           'reg_alpha':8.457,\n",
    "           'reg_lambda':6.853,\n",
    "            'subsample':0.749}"
   ]
  },
  {
   "cell_type": "code",
   "execution_count": 173,
   "metadata": {},
   "outputs": [
    {
     "name": "stdout",
     "output_type": "stream",
     "text": [
      "Fold:0\n",
      "Training until validation scores don't improve for 100 rounds\n",
      "[400]\tvalid_0's binary_logloss: 0.378501\n",
      "[800]\tvalid_0's binary_logloss: 0.37827\n",
      "Early stopping, best iteration is:\n",
      "[802]\tvalid_0's binary_logloss: 0.378264\n",
      "roc_auc_score:0.8539183817995556\n",
      "--------------------------------------------------\n",
      "Fold:1\n",
      "Training until validation scores don't improve for 100 rounds\n",
      "[400]\tvalid_0's binary_logloss: 0.382606\n",
      "Early stopping, best iteration is:\n",
      "[524]\tvalid_0's binary_logloss: 0.382519\n",
      "roc_auc_score:0.8500343931608946\n",
      "--------------------------------------------------\n",
      "Fold:2\n",
      "Training until validation scores don't improve for 100 rounds\n",
      "[400]\tvalid_0's binary_logloss: 0.384762\n",
      "Early stopping, best iteration is:\n",
      "[607]\tvalid_0's binary_logloss: 0.38465\n",
      "roc_auc_score:0.847290061663613\n",
      "--------------------------------------------------\n",
      "Fold:3\n",
      "Training until validation scores don't improve for 100 rounds\n",
      "[400]\tvalid_0's binary_logloss: 0.383285\n",
      "Early stopping, best iteration is:\n",
      "[517]\tvalid_0's binary_logloss: 0.383167\n",
      "roc_auc_score:0.8493604885557047\n",
      "--------------------------------------------------\n",
      "Fold:4\n",
      "Training until validation scores don't improve for 100 rounds\n",
      "[400]\tvalid_0's binary_logloss: 0.380917\n",
      "Early stopping, best iteration is:\n",
      "[494]\tvalid_0's binary_logloss: 0.380823\n",
      "roc_auc_score:0.8517737363514903\n",
      "--------------------------------------------------\n",
      "Fold:5\n",
      "Training until validation scores don't improve for 100 rounds\n",
      "[400]\tvalid_0's binary_logloss: 0.382336\n",
      "Early stopping, best iteration is:\n",
      "[663]\tvalid_0's binary_logloss: 0.382243\n",
      "roc_auc_score:0.8505607850758279\n",
      "--------------------------------------------------\n",
      "Fold:6\n",
      "Training until validation scores don't improve for 100 rounds\n",
      "[400]\tvalid_0's binary_logloss: 0.378841\n",
      "Early stopping, best iteration is:\n",
      "[685]\tvalid_0's binary_logloss: 0.378685\n",
      "roc_auc_score:0.8541274022666261\n",
      "--------------------------------------------------\n",
      "Fold:7\n",
      "Training until validation scores don't improve for 100 rounds\n",
      "[400]\tvalid_0's binary_logloss: 0.38058\n",
      "[800]\tvalid_0's binary_logloss: 0.380368\n",
      "Early stopping, best iteration is:\n",
      "[832]\tvalid_0's binary_logloss: 0.38033\n",
      "roc_auc_score:0.8533749327570593\n",
      "--------------------------------------------------\n",
      "Fold:8\n",
      "Training until validation scores don't improve for 100 rounds\n",
      "[400]\tvalid_0's binary_logloss: 0.382945\n",
      "[800]\tvalid_0's binary_logloss: 0.382679\n",
      "Early stopping, best iteration is:\n",
      "[974]\tvalid_0's binary_logloss: 0.382578\n",
      "roc_auc_score:0.8489208609089447\n",
      "--------------------------------------------------\n"
     ]
    }
   ],
   "source": [
    "from lightgbm import LGBMClassifier\n",
    "lgb_model=cross_val(X,y,LGBMClassifier,lgb_params)"
   ]
  },
  {
   "cell_type": "code",
   "execution_count": 174,
   "metadata": {},
   "outputs": [],
   "source": [
    "xgb_params={'n_estimators':20000,\n",
    "            'max_depth':6,\n",
    "            'learning_rate':0.0201,\n",
    "            'reg_lambda':29.236,\n",
    "            'subsample':0.818,\n",
    "            'colsample_bytree':0.235,\n",
    "            'colsample_bynode':0.820,\n",
    "            'colsample_bylevel':0.453\n",
    "           }"
   ]
  },
  {
   "cell_type": "code",
   "execution_count": 175,
   "metadata": {},
   "outputs": [
    {
     "name": "stdout",
     "output_type": "stream",
     "text": [
      "Fold:0\n"
     ]
    },
    {
     "name": "stderr",
     "output_type": "stream",
     "text": [
      "C:\\Users\\91834\\anaconda\\lib\\site-packages\\xgboost\\sklearn.py:1146: UserWarning: The use of label encoder in XGBClassifier is deprecated and will be removed in a future release. To remove this warning, do the following: 1) Pass option use_label_encoder=False when constructing XGBClassifier object; and 2) Encode your labels (y) as integers starting with 0, i.e. 0, 1, 2, ..., [num_class - 1].\n",
      "  warnings.warn(label_encoder_deprecation_msg, UserWarning)\n"
     ]
    },
    {
     "name": "stdout",
     "output_type": "stream",
     "text": [
      "[23:04:27] WARNING: C:/Users/Administrator/workspace/xgboost-win64_release_1.4.0/src/learner.cc:1095: Starting in XGBoost 1.3.0, the default evaluation metric used with the objective 'binary:logistic' was changed from 'error' to 'logloss'. Explicitly set eval_metric if you'd like to restore the old behavior.\n",
      "[0]\tvalidation_0-logloss:0.68732\n",
      "[400]\tvalidation_0-logloss:0.39726\n",
      "[800]\tvalidation_0-logloss:0.38762\n",
      "[1200]\tvalidation_0-logloss:0.38480\n",
      "[1600]\tvalidation_0-logloss:0.38354\n",
      "[2000]\tvalidation_0-logloss:0.38276\n",
      "[2400]\tvalidation_0-logloss:0.38215\n",
      "[2800]\tvalidation_0-logloss:0.38180\n",
      "[3200]\tvalidation_0-logloss:0.38151\n",
      "[3600]\tvalidation_0-logloss:0.38125\n",
      "[4000]\tvalidation_0-logloss:0.38100\n",
      "[4294]\tvalidation_0-logloss:0.38091\n",
      "roc_auc_score:0.8522618226156934\n",
      "--------------------------------------------------\n",
      "Fold:1\n"
     ]
    },
    {
     "name": "stderr",
     "output_type": "stream",
     "text": [
      "C:\\Users\\91834\\anaconda\\lib\\site-packages\\xgboost\\sklearn.py:1146: UserWarning: The use of label encoder in XGBClassifier is deprecated and will be removed in a future release. To remove this warning, do the following: 1) Pass option use_label_encoder=False when constructing XGBClassifier object; and 2) Encode your labels (y) as integers starting with 0, i.e. 0, 1, 2, ..., [num_class - 1].\n",
      "  warnings.warn(label_encoder_deprecation_msg, UserWarning)\n"
     ]
    },
    {
     "name": "stdout",
     "output_type": "stream",
     "text": [
      "[23:10:50] WARNING: C:/Users/Administrator/workspace/xgboost-win64_release_1.4.0/src/learner.cc:1095: Starting in XGBoost 1.3.0, the default evaluation metric used with the objective 'binary:logistic' was changed from 'error' to 'logloss'. Explicitly set eval_metric if you'd like to restore the old behavior.\n",
      "[0]\tvalidation_0-logloss:0.68728\n",
      "[400]\tvalidation_0-logloss:0.39932\n",
      "[800]\tvalidation_0-logloss:0.39048\n",
      "[1200]\tvalidation_0-logloss:0.38791\n",
      "[1600]\tvalidation_0-logloss:0.38674\n",
      "[2000]\tvalidation_0-logloss:0.38605\n",
      "[2400]\tvalidation_0-logloss:0.38544\n",
      "[2800]\tvalidation_0-logloss:0.38515\n",
      "[3200]\tvalidation_0-logloss:0.38491\n",
      "[3600]\tvalidation_0-logloss:0.38473\n",
      "[4000]\tvalidation_0-logloss:0.38454\n",
      "[4294]\tvalidation_0-logloss:0.38448\n",
      "roc_auc_score:0.8491323585964945\n",
      "--------------------------------------------------\n",
      "Fold:2\n"
     ]
    },
    {
     "name": "stderr",
     "output_type": "stream",
     "text": [
      "C:\\Users\\91834\\anaconda\\lib\\site-packages\\xgboost\\sklearn.py:1146: UserWarning: The use of label encoder in XGBClassifier is deprecated and will be removed in a future release. To remove this warning, do the following: 1) Pass option use_label_encoder=False when constructing XGBClassifier object; and 2) Encode your labels (y) as integers starting with 0, i.e. 0, 1, 2, ..., [num_class - 1].\n",
      "  warnings.warn(label_encoder_deprecation_msg, UserWarning)\n"
     ]
    },
    {
     "name": "stdout",
     "output_type": "stream",
     "text": [
      "[23:17:17] WARNING: C:/Users/Administrator/workspace/xgboost-win64_release_1.4.0/src/learner.cc:1095: Starting in XGBoost 1.3.0, the default evaluation metric used with the objective 'binary:logistic' was changed from 'error' to 'logloss'. Explicitly set eval_metric if you'd like to restore the old behavior.\n",
      "[0]\tvalidation_0-logloss:0.68730\n",
      "[400]\tvalidation_0-logloss:0.40129\n",
      "[800]\tvalidation_0-logloss:0.39230\n",
      "[1200]\tvalidation_0-logloss:0.38951\n",
      "[1600]\tvalidation_0-logloss:0.38824\n",
      "[2000]\tvalidation_0-logloss:0.38750\n",
      "[2400]\tvalidation_0-logloss:0.38697\n",
      "[2800]\tvalidation_0-logloss:0.38654\n",
      "[3200]\tvalidation_0-logloss:0.38631\n",
      "[3562]\tvalidation_0-logloss:0.38615\n",
      "roc_auc_score:0.8470288284500749\n",
      "--------------------------------------------------\n",
      "Fold:3\n"
     ]
    },
    {
     "name": "stderr",
     "output_type": "stream",
     "text": [
      "C:\\Users\\91834\\anaconda\\lib\\site-packages\\xgboost\\sklearn.py:1146: UserWarning: The use of label encoder in XGBClassifier is deprecated and will be removed in a future release. To remove this warning, do the following: 1) Pass option use_label_encoder=False when constructing XGBClassifier object; and 2) Encode your labels (y) as integers starting with 0, i.e. 0, 1, 2, ..., [num_class - 1].\n",
      "  warnings.warn(label_encoder_deprecation_msg, UserWarning)\n"
     ]
    },
    {
     "name": "stdout",
     "output_type": "stream",
     "text": [
      "[23:22:36] WARNING: C:/Users/Administrator/workspace/xgboost-win64_release_1.4.0/src/learner.cc:1095: Starting in XGBoost 1.3.0, the default evaluation metric used with the objective 'binary:logistic' was changed from 'error' to 'logloss'. Explicitly set eval_metric if you'd like to restore the old behavior.\n",
      "[0]\tvalidation_0-logloss:0.68731\n",
      "[400]\tvalidation_0-logloss:0.40163\n",
      "[800]\tvalidation_0-logloss:0.39275\n",
      "[1200]\tvalidation_0-logloss:0.38990\n",
      "[1600]\tvalidation_0-logloss:0.38851\n",
      "[2000]\tvalidation_0-logloss:0.38766\n",
      "[2400]\tvalidation_0-logloss:0.38692\n",
      "[2800]\tvalidation_0-logloss:0.38658\n",
      "[3200]\tvalidation_0-logloss:0.38625\n",
      "[3600]\tvalidation_0-logloss:0.38598\n",
      "[4000]\tvalidation_0-logloss:0.38566\n",
      "[4293]\tvalidation_0-logloss:0.38558\n",
      "roc_auc_score:0.8477041056015404\n",
      "--------------------------------------------------\n",
      "Fold:4\n"
     ]
    },
    {
     "name": "stderr",
     "output_type": "stream",
     "text": [
      "C:\\Users\\91834\\anaconda\\lib\\site-packages\\xgboost\\sklearn.py:1146: UserWarning: The use of label encoder in XGBClassifier is deprecated and will be removed in a future release. To remove this warning, do the following: 1) Pass option use_label_encoder=False when constructing XGBClassifier object; and 2) Encode your labels (y) as integers starting with 0, i.e. 0, 1, 2, ..., [num_class - 1].\n",
      "  warnings.warn(label_encoder_deprecation_msg, UserWarning)\n"
     ]
    },
    {
     "name": "stdout",
     "output_type": "stream",
     "text": [
      "[23:28:47] WARNING: C:/Users/Administrator/workspace/xgboost-win64_release_1.4.0/src/learner.cc:1095: Starting in XGBoost 1.3.0, the default evaluation metric used with the objective 'binary:logistic' was changed from 'error' to 'logloss'. Explicitly set eval_metric if you'd like to restore the old behavior.\n",
      "[0]\tvalidation_0-logloss:0.68737\n",
      "[400]\tvalidation_0-logloss:0.39831\n",
      "[800]\tvalidation_0-logloss:0.38874\n",
      "[1200]\tvalidation_0-logloss:0.38596\n",
      "[1600]\tvalidation_0-logloss:0.38472\n",
      "[2000]\tvalidation_0-logloss:0.38396\n",
      "[2400]\tvalidation_0-logloss:0.38339\n",
      "[2800]\tvalidation_0-logloss:0.38299\n",
      "[3200]\tvalidation_0-logloss:0.38271\n",
      "[3600]\tvalidation_0-logloss:0.38253\n",
      "[4000]\tvalidation_0-logloss:0.38233\n",
      "[4236]\tvalidation_0-logloss:0.38227\n",
      "roc_auc_score:0.8519756786718707\n",
      "--------------------------------------------------\n",
      "Fold:5\n"
     ]
    },
    {
     "name": "stderr",
     "output_type": "stream",
     "text": [
      "C:\\Users\\91834\\anaconda\\lib\\site-packages\\xgboost\\sklearn.py:1146: UserWarning: The use of label encoder in XGBClassifier is deprecated and will be removed in a future release. To remove this warning, do the following: 1) Pass option use_label_encoder=False when constructing XGBClassifier object; and 2) Encode your labels (y) as integers starting with 0, i.e. 0, 1, 2, ..., [num_class - 1].\n",
      "  warnings.warn(label_encoder_deprecation_msg, UserWarning)\n"
     ]
    },
    {
     "name": "stdout",
     "output_type": "stream",
     "text": [
      "[23:35:03] WARNING: C:/Users/Administrator/workspace/xgboost-win64_release_1.4.0/src/learner.cc:1095: Starting in XGBoost 1.3.0, the default evaluation metric used with the objective 'binary:logistic' was changed from 'error' to 'logloss'. Explicitly set eval_metric if you'd like to restore the old behavior.\n",
      "[0]\tvalidation_0-logloss:0.68736\n",
      "[400]\tvalidation_0-logloss:0.39911\n",
      "[800]\tvalidation_0-logloss:0.39025\n",
      "[1200]\tvalidation_0-logloss:0.38760\n",
      "[1600]\tvalidation_0-logloss:0.38632\n",
      "[2000]\tvalidation_0-logloss:0.38553\n",
      "[2400]\tvalidation_0-logloss:0.38491\n",
      "[2800]\tvalidation_0-logloss:0.38453\n",
      "[3200]\tvalidation_0-logloss:0.38423\n",
      "[3600]\tvalidation_0-logloss:0.38397\n",
      "[3986]\tvalidation_0-logloss:0.38373\n",
      "roc_auc_score:0.8498226280699439\n",
      "--------------------------------------------------\n",
      "Fold:6\n"
     ]
    },
    {
     "name": "stderr",
     "output_type": "stream",
     "text": [
      "C:\\Users\\91834\\anaconda\\lib\\site-packages\\xgboost\\sklearn.py:1146: UserWarning: The use of label encoder in XGBClassifier is deprecated and will be removed in a future release. To remove this warning, do the following: 1) Pass option use_label_encoder=False when constructing XGBClassifier object; and 2) Encode your labels (y) as integers starting with 0, i.e. 0, 1, 2, ..., [num_class - 1].\n",
      "  warnings.warn(label_encoder_deprecation_msg, UserWarning)\n"
     ]
    },
    {
     "name": "stdout",
     "output_type": "stream",
     "text": [
      "[23:40:52] WARNING: C:/Users/Administrator/workspace/xgboost-win64_release_1.4.0/src/learner.cc:1095: Starting in XGBoost 1.3.0, the default evaluation metric used with the objective 'binary:logistic' was changed from 'error' to 'logloss'. Explicitly set eval_metric if you'd like to restore the old behavior.\n",
      "[0]\tvalidation_0-logloss:0.68732\n",
      "[400]\tvalidation_0-logloss:0.39691\n",
      "[800]\tvalidation_0-logloss:0.38729\n",
      "[1200]\tvalidation_0-logloss:0.38431\n",
      "[1600]\tvalidation_0-logloss:0.38288\n",
      "[2000]\tvalidation_0-logloss:0.38201\n",
      "[2400]\tvalidation_0-logloss:0.38137\n",
      "[2800]\tvalidation_0-logloss:0.38093\n",
      "[3200]\tvalidation_0-logloss:0.38061\n",
      "[3600]\tvalidation_0-logloss:0.38039\n",
      "[4000]\tvalidation_0-logloss:0.38015\n",
      "[4400]\tvalidation_0-logloss:0.38003\n",
      "[4800]\tvalidation_0-logloss:0.37988\n",
      "[5200]\tvalidation_0-logloss:0.37977\n",
      "[5363]\tvalidation_0-logloss:0.37975\n",
      "roc_auc_score:0.8538634019740025\n",
      "--------------------------------------------------\n",
      "Fold:7\n"
     ]
    },
    {
     "name": "stderr",
     "output_type": "stream",
     "text": [
      "C:\\Users\\91834\\anaconda\\lib\\site-packages\\xgboost\\sklearn.py:1146: UserWarning: The use of label encoder in XGBClassifier is deprecated and will be removed in a future release. To remove this warning, do the following: 1) Pass option use_label_encoder=False when constructing XGBClassifier object; and 2) Encode your labels (y) as integers starting with 0, i.e. 0, 1, 2, ..., [num_class - 1].\n",
      "  warnings.warn(label_encoder_deprecation_msg, UserWarning)\n"
     ]
    },
    {
     "name": "stdout",
     "output_type": "stream",
     "text": [
      "[23:48:34] WARNING: C:/Users/Administrator/workspace/xgboost-win64_release_1.4.0/src/learner.cc:1095: Starting in XGBoost 1.3.0, the default evaluation metric used with the objective 'binary:logistic' was changed from 'error' to 'logloss'. Explicitly set eval_metric if you'd like to restore the old behavior.\n",
      "[0]\tvalidation_0-logloss:0.68731\n",
      "[400]\tvalidation_0-logloss:0.40096\n",
      "[800]\tvalidation_0-logloss:0.39058\n",
      "[1200]\tvalidation_0-logloss:0.38678\n",
      "[1600]\tvalidation_0-logloss:0.38489\n",
      "[2000]\tvalidation_0-logloss:0.38395\n",
      "[2400]\tvalidation_0-logloss:0.38352\n",
      "[2800]\tvalidation_0-logloss:0.38318\n",
      "[3200]\tvalidation_0-logloss:0.38287\n",
      "[3600]\tvalidation_0-logloss:0.38258\n",
      "[4000]\tvalidation_0-logloss:0.38235\n",
      "[4400]\tvalidation_0-logloss:0.38219\n",
      "[4800]\tvalidation_0-logloss:0.38202\n",
      "[5200]\tvalidation_0-logloss:0.38194\n",
      "[5600]\tvalidation_0-logloss:0.38181\n",
      "[5752]\tvalidation_0-logloss:0.38180\n",
      "roc_auc_score:0.852507202980168\n",
      "--------------------------------------------------\n",
      "Fold:8\n"
     ]
    },
    {
     "name": "stderr",
     "output_type": "stream",
     "text": [
      "C:\\Users\\91834\\anaconda\\lib\\site-packages\\xgboost\\sklearn.py:1146: UserWarning: The use of label encoder in XGBClassifier is deprecated and will be removed in a future release. To remove this warning, do the following: 1) Pass option use_label_encoder=False when constructing XGBClassifier object; and 2) Encode your labels (y) as integers starting with 0, i.e. 0, 1, 2, ..., [num_class - 1].\n",
      "  warnings.warn(label_encoder_deprecation_msg, UserWarning)\n"
     ]
    },
    {
     "name": "stdout",
     "output_type": "stream",
     "text": [
      "[23:57:05] WARNING: C:/Users/Administrator/workspace/xgboost-win64_release_1.4.0/src/learner.cc:1095: Starting in XGBoost 1.3.0, the default evaluation metric used with the objective 'binary:logistic' was changed from 'error' to 'logloss'. Explicitly set eval_metric if you'd like to restore the old behavior.\n",
      "[0]\tvalidation_0-logloss:0.68734\n",
      "[400]\tvalidation_0-logloss:0.40377\n",
      "[800]\tvalidation_0-logloss:0.39346\n",
      "[1200]\tvalidation_0-logloss:0.38950\n",
      "[1600]\tvalidation_0-logloss:0.38756\n",
      "[2000]\tvalidation_0-logloss:0.38656\n",
      "[2400]\tvalidation_0-logloss:0.38603\n",
      "[2800]\tvalidation_0-logloss:0.38568\n",
      "[3200]\tvalidation_0-logloss:0.38533\n",
      "[3600]\tvalidation_0-logloss:0.38510\n",
      "[4000]\tvalidation_0-logloss:0.38486\n",
      "[4400]\tvalidation_0-logloss:0.38469\n",
      "[4800]\tvalidation_0-logloss:0.38450\n",
      "[5200]\tvalidation_0-logloss:0.38438\n",
      "[5600]\tvalidation_0-logloss:0.38424\n",
      "[5724]\tvalidation_0-logloss:0.38425\n",
      "roc_auc_score:0.8483630944701552\n",
      "--------------------------------------------------\n"
     ]
    }
   ],
   "source": [
    "from xgboost import XGBClassifier\n",
    "xgb_model=cross_val(X,y,XGBClassifier,xgb_params)"
   ]
  },
  {
   "cell_type": "code",
   "execution_count": 176,
   "metadata": {},
   "outputs": [],
   "source": [
    "cat_params={'n_estimators':20000,\n",
    "            'depth':4,\n",
    "            'learning_rate':0.023,\n",
    "            'colsample_bylevel':0.655,\n",
    "            'bagging_temperature':0.921,\n",
    "            'l2_leaf_reg':10.133\n",
    "    \n",
    "}"
   ]
  },
  {
   "cell_type": "code",
   "execution_count": 178,
   "metadata": {},
   "outputs": [
    {
     "name": "stdout",
     "output_type": "stream",
     "text": [
      "Fold:0\n",
      "0:\tlearn: 0.6764678\ttest: 0.6763910\tbest: 0.6763910 (0)\ttotal: 300ms\tremaining: 1h 39m 51s\n",
      "400:\tlearn: 0.3840038\ttest: 0.3811881\tbest: 0.3811881 (400)\ttotal: 24.2s\tremaining: 19m 40s\n",
      "800:\tlearn: 0.3816523\ttest: 0.3794338\tbest: 0.3794338 (800)\ttotal: 47.8s\tremaining: 19m 6s\n",
      "1200:\tlearn: 0.3804355\ttest: 0.3789120\tbest: 0.3789120 (1200)\ttotal: 1m 11s\tremaining: 18m 46s\n",
      "1600:\tlearn: 0.3796263\ttest: 0.3788468\tbest: 0.3788468 (1600)\ttotal: 1m 37s\tremaining: 18m 44s\n",
      "Stopped by overfitting detector  (100 iterations wait)\n",
      "\n",
      "bestTest = 0.3788059237\n",
      "bestIteration = 1696\n",
      "\n",
      "Shrink model to first 1697 iterations.\n",
      "roc_auc_score:0.853424567689949\n",
      "--------------------------------------------------\n",
      "Fold:1\n",
      "0:\tlearn: 0.6764287\ttest: 0.6764170\tbest: 0.6764170 (0)\ttotal: 72.2ms\tremaining: 24m 4s\n",
      "400:\tlearn: 0.3835105\ttest: 0.3849751\tbest: 0.3849751 (400)\ttotal: 22.9s\tremaining: 18m 40s\n",
      "800:\tlearn: 0.3810271\ttest: 0.3833307\tbest: 0.3833307 (800)\ttotal: 48.5s\tremaining: 19m 22s\n",
      "1200:\tlearn: 0.3799066\ttest: 0.3829969\tbest: 0.3829969 (1200)\ttotal: 1m 12s\tremaining: 18m 54s\n",
      "1600:\tlearn: 0.3790459\ttest: 0.3828426\tbest: 0.3828378 (1536)\ttotal: 1m 37s\tremaining: 18m 39s\n",
      "Stopped by overfitting detector  (100 iterations wait)\n",
      "\n",
      "bestTest = 0.382837844\n",
      "bestIteration = 1536\n",
      "\n",
      "Shrink model to first 1537 iterations.\n",
      "roc_auc_score:0.8497117663609144\n",
      "--------------------------------------------------\n",
      "Fold:2\n",
      "0:\tlearn: 0.6763941\ttest: 0.6764304\tbest: 0.6764304 (0)\ttotal: 72ms\tremaining: 23m 59s\n",
      "400:\tlearn: 0.3831685\ttest: 0.3867640\tbest: 0.3867640 (400)\ttotal: 23.6s\tremaining: 19m 13s\n",
      "800:\tlearn: 0.3808046\ttest: 0.3852986\tbest: 0.3852968 (799)\ttotal: 47.1s\tremaining: 18m 48s\n",
      "1200:\tlearn: 0.3795924\ttest: 0.3849585\tbest: 0.3849544 (1191)\ttotal: 1m 11s\tremaining: 18m 39s\n",
      "1600:\tlearn: 0.3787409\ttest: 0.3848956\tbest: 0.3848956 (1600)\ttotal: 1m 36s\tremaining: 18m 24s\n",
      "2000:\tlearn: 0.3780011\ttest: 0.3848347\tbest: 0.3848221 (1959)\ttotal: 2m\tremaining: 18m 4s\n",
      "Stopped by overfitting detector  (100 iterations wait)\n",
      "\n",
      "bestTest = 0.3848220852\n",
      "bestIteration = 1959\n",
      "\n",
      "Shrink model to first 1960 iterations.\n",
      "roc_auc_score:0.8478721126033926\n",
      "--------------------------------------------------\n",
      "Fold:3\n",
      "0:\tlearn: 0.6764139\ttest: 0.6764110\tbest: 0.6764110 (0)\ttotal: 55.9ms\tremaining: 18m 38s\n",
      "400:\tlearn: 0.3835448\ttest: 0.3859864\tbest: 0.3859864 (400)\ttotal: 23.7s\tremaining: 19m 20s\n",
      "800:\tlearn: 0.3810787\ttest: 0.3841512\tbest: 0.3841512 (800)\ttotal: 47.1s\tremaining: 18m 49s\n",
      "1200:\tlearn: 0.3798904\ttest: 0.3837376\tbest: 0.3837376 (1200)\ttotal: 1m 11s\tremaining: 18m 45s\n",
      "Stopped by overfitting detector  (100 iterations wait)\n",
      "\n",
      "bestTest = 0.3835801776\n",
      "bestIteration = 1491\n",
      "\n",
      "Shrink model to first 1492 iterations.\n",
      "roc_auc_score:0.8491604737317744\n",
      "--------------------------------------------------\n",
      "Fold:4\n",
      "0:\tlearn: 0.6764543\ttest: 0.6764754\tbest: 0.6764754 (0)\ttotal: 71.9ms\tremaining: 23m 57s\n",
      "400:\tlearn: 0.3836602\ttest: 0.3830309\tbest: 0.3830309 (400)\ttotal: 23.6s\tremaining: 19m 15s\n",
      "800:\tlearn: 0.3813813\ttest: 0.3813239\tbest: 0.3813213 (798)\ttotal: 47.9s\tremaining: 19m 8s\n",
      "1200:\tlearn: 0.3802469\ttest: 0.3809742\tbest: 0.3809742 (1200)\ttotal: 1m 12s\tremaining: 18m 47s\n",
      "Stopped by overfitting detector  (100 iterations wait)\n",
      "\n",
      "bestTest = 0.380910945\n",
      "bestIteration = 1424\n",
      "\n",
      "Shrink model to first 1425 iterations.\n",
      "roc_auc_score:0.8521239624564614\n",
      "--------------------------------------------------\n",
      "Fold:5\n",
      "0:\tlearn: 0.6764148\ttest: 0.6764313\tbest: 0.6764313 (0)\ttotal: 80.3ms\tremaining: 26m 46s\n",
      "400:\tlearn: 0.3833858\ttest: 0.3845952\tbest: 0.3845952 (400)\ttotal: 23.6s\tremaining: 19m 12s\n",
      "800:\tlearn: 0.3810945\ttest: 0.3829214\tbest: 0.3829199 (799)\ttotal: 47.1s\tremaining: 18m 48s\n",
      "1200:\tlearn: 0.3799174\ttest: 0.3824265\tbest: 0.3824265 (1200)\ttotal: 1m 11s\tremaining: 18m 35s\n",
      "1600:\tlearn: 0.3791028\ttest: 0.3822275\tbest: 0.3822275 (1600)\ttotal: 1m 36s\tremaining: 18m 27s\n",
      "2000:\tlearn: 0.3783734\ttest: 0.3821198\tbest: 0.3821101 (1987)\ttotal: 2m 1s\tremaining: 18m 13s\n",
      "Stopped by overfitting detector  (100 iterations wait)\n",
      "\n",
      "bestTest = 0.3821101424\n",
      "bestIteration = 1987\n",
      "\n",
      "Shrink model to first 1988 iterations.\n",
      "roc_auc_score:0.8507837630545814\n",
      "--------------------------------------------------\n",
      "Fold:6\n",
      "0:\tlearn: 0.6764692\ttest: 0.6764527\tbest: 0.6764527 (0)\ttotal: 64ms\tremaining: 21m 19s\n",
      "400:\tlearn: 0.3841659\ttest: 0.3815862\tbest: 0.3815862 (400)\ttotal: 23.7s\tremaining: 19m 16s\n",
      "800:\tlearn: 0.3815963\ttest: 0.3796496\tbest: 0.3796494 (798)\ttotal: 47.1s\tremaining: 18m 47s\n",
      "1200:\tlearn: 0.3804071\ttest: 0.3791155\tbest: 0.3791137 (1199)\ttotal: 1m 11s\tremaining: 18m 33s\n",
      "1600:\tlearn: 0.3795703\ttest: 0.3789616\tbest: 0.3789545 (1567)\ttotal: 1m 35s\tremaining: 18m 23s\n",
      "Stopped by overfitting detector  (100 iterations wait)\n",
      "\n",
      "bestTest = 0.3789508804\n",
      "bestIteration = 1616\n",
      "\n",
      "Shrink model to first 1617 iterations.\n",
      "roc_auc_score:0.8537486380940226\n",
      "--------------------------------------------------\n",
      "Fold:7\n",
      "0:\tlearn: 0.6764441\ttest: 0.6764175\tbest: 0.6764175 (0)\ttotal: 73.4ms\tremaining: 24m 27s\n",
      "400:\tlearn: 0.3834624\ttest: 0.3830203\tbest: 0.3830203 (400)\ttotal: 23.3s\tremaining: 19m\n",
      "800:\tlearn: 0.3813378\ttest: 0.3812417\tbest: 0.3812417 (800)\ttotal: 47.1s\tremaining: 18m 49s\n",
      "1200:\tlearn: 0.3801881\ttest: 0.3806834\tbest: 0.3806834 (1200)\ttotal: 1m 11s\tremaining: 18m 38s\n",
      "1600:\tlearn: 0.3793189\ttest: 0.3804176\tbest: 0.3804156 (1598)\ttotal: 1m 35s\tremaining: 18m 19s\n",
      "2000:\tlearn: 0.3785937\ttest: 0.3803316\tbest: 0.3803308 (1998)\ttotal: 2m\tremaining: 18m 4s\n",
      "Stopped by overfitting detector  (100 iterations wait)\n",
      "\n",
      "bestTest = 0.3803307713\n",
      "bestIteration = 1998\n",
      "\n",
      "Shrink model to first 1999 iterations.\n",
      "roc_auc_score:0.8531368056997694\n",
      "--------------------------------------------------\n",
      "Fold:8\n",
      "0:\tlearn: 0.6763894\ttest: 0.6764649\tbest: 0.6764649 (0)\ttotal: 56.7ms\tremaining: 18m 54s\n",
      "400:\tlearn: 0.3832670\ttest: 0.3854142\tbest: 0.3854142 (400)\ttotal: 23.5s\tremaining: 19m 9s\n",
      "800:\tlearn: 0.3810385\ttest: 0.3838894\tbest: 0.3838894 (800)\ttotal: 47.6s\tremaining: 19m 1s\n",
      "1200:\tlearn: 0.3798701\ttest: 0.3835274\tbest: 0.3835213 (1196)\ttotal: 1m 12s\tremaining: 18m 54s\n",
      "1600:\tlearn: 0.3789827\ttest: 0.3833878\tbest: 0.3833861 (1599)\ttotal: 1m 37s\tremaining: 18m 38s\n",
      "Stopped by overfitting detector  (100 iterations wait)\n",
      "\n",
      "bestTest = 0.3833749265\n",
      "bestIteration = 1618\n",
      "\n",
      "Shrink model to first 1619 iterations.\n",
      "roc_auc_score:0.8483353119915258\n",
      "--------------------------------------------------\n"
     ]
    }
   ],
   "source": [
    "from catboost import CatBoostClassifier\n",
    "cat_model=cross_val(X,y,CatBoostClassifier,cat_params)"
   ]
  },
  {
   "cell_type": "code",
   "execution_count": 181,
   "metadata": {},
   "outputs": [],
   "source": [
    "pred_test_lgb=lgb_model.predict_proba(test_df)[:,1]\n",
    "pred_test_xgb=xgb_model.predict_proba(test_df)[:,1]\n",
    "pred_test_cat=cat_model.predict_proba(test_df)[:,1]\n",
    "prediction=(pred_test_lgb+pred_test_xgb+pred_test_cat)"
   ]
  },
  {
   "cell_type": "code",
   "execution_count": 182,
   "metadata": {},
   "outputs": [],
   "source": [
    "sample_submission['Is_Lead']=prediction\n",
    "sample_submission.to_csv(f'submission.csv',index=False)"
   ]
  },
  {
   "cell_type": "code",
   "execution_count": 183,
   "metadata": {},
   "outputs": [],
   "source": [
    "sample_submission['Is_Lead']=pred_test_lgb\n",
    "sample_submission.to_csv(f'pred_test_lgb.csv',index=False)\n",
    "\n",
    "sample_submission['Is_Lead']=pred_test_xgb\n",
    "sample_submission.to_csv(f'pred_test_xgb.csv',index=False)\n",
    "\n",
    "sample_submission['Is_Lead']=pred_test_cat\n",
    "sample_submission.to_csv(f'pred_test_cat.csv',index=False)"
   ]
  }
 ],
 "metadata": {
  "kernelspec": {
   "display_name": "Python 3",
   "language": "python",
   "name": "python3"
  },
  "language_info": {
   "codemirror_mode": {
    "name": "ipython",
    "version": 3
   },
   "file_extension": ".py",
   "mimetype": "text/x-python",
   "name": "python",
   "nbconvert_exporter": "python",
   "pygments_lexer": "ipython3",
   "version": "3.8.5"
  }
 },
 "nbformat": 4,
 "nbformat_minor": 4
}
